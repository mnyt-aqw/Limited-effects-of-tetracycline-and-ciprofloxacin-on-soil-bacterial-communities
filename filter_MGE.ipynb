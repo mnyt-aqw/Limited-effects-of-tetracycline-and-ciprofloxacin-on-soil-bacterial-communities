{
 "cells": [
  {
   "cell_type": "raw",
   "metadata": {
    "vscode": {
     "languageId": "raw"
    }
   },
   "source": [
    "---\n",
    "title: Filter of mobileOG-db\n",
    "format:\n",
    "  html:\n",
    "    standalone: true\n",
    "    self-contained: true\n",
    "    code-fold: true\n",
    "    toc: true\n",
    "execute:\n",
    "  echo: true\n",
    "  warning: false\n",
    "---"
   ]
  },
  {
   "cell_type": "code",
   "execution_count": 19,
   "metadata": {},
   "outputs": [
    {
     "name": "stdout",
     "output_type": "stream",
     "text": [
      "The rpy2.ipython extension is already loaded. To reload it, use:\n",
      "  %reload_ext rpy2.ipython\n"
     ]
    }
   ],
   "source": [
    "import pandas as pd\n",
    "from Bio import SeqIO\n",
    "from Bio.Seq import Seq\n",
    "from Bio.SeqRecord import SeqRecord\n",
    "%load_ext rpy2.ipython "
   ]
  },
  {
   "cell_type": "markdown",
   "metadata": {},
   "source": [
    "# Aim\n",
    "\n",
    "The aim of this notebook is to filter mobileOG-db to only keep MGEs relevant to environmental ARGs.\n",
    "\n",
    "\n",
    "\n",
    "## Time to filter the DB\n",
    "\n",
    "The first step is to go to `https://mobileogdb.flsi.cloud.vt.edu/entries/database_download` and download `Manually Curated Data` to dir `files`.\n",
    "\n",
    "First We need to unzip the files and add some metadata using a script adapted from this GutHub repo\n",
    "`https://github.com/clb21565/mobileOG-db/blob/main/scripts/getElementClassifications.R`. "
   ]
  },
  {
   "cell_type": "code",
   "execution_count": null,
   "metadata": {},
   "outputs": [],
   "source": [
    "%%R -o out\n",
    "\n",
    "library(tidyverse)\n",
    "library(data.table)\n",
    "\n",
    "# Code adapted from https://github.com/clb21565/mobileOG-db/blob/main/scripts/getElementClassifications.R\n",
    "\n",
    "`%notin%` <- Negate(`%in%`)\n",
    "\n",
    "mobileOGs=fread(\"files/mobileOG-db-beatrix-1.6-MC.csv\")\n",
    "mobileOGs_classes=mobileOGs[,c(\"mobileOG Entry Name\",\"Major mobileOG Category\",\"Minor mobileOG Categories\",\"ACLAME\",\"immedb\",\"GPD\",\n",
    "            \"pVOG\",\"ICE\",\"AICE\",\"CIME\",\"IME\",\"ISFinder\",\"PlasmidRefSeq\",\"COMPASS\")]\n",
    "\n",
    "TE=mobileOGs_classes%>%subset(ISFinder!=0)\n",
    "TE$MGE_Class=\"Insertion Sequence (IS)\"\n",
    "IGE=mobileOGs_classes%>%subset(AICE!=0|ICE!=0|CIME!=0|immedb!=0|IME!=0)%>%subset(ISFinder==0)\n",
    "IGE$MGE_Class=\"Integrative Element (IGE)\"\n",
    "Ph=mobileOGs_classes%>%subset(GPD!=0|pVOG!=0)\n",
    "Ph$MGE_Class=\"Phage\"\n",
    "plasmidic=mobileOGs_classes%>%subset(COMPASS!=0|PlasmidRefSeq!=0)%>%\n",
    "  filter(`mobileOG Entry Name`%notin%c(IGE$`mobileOG Entry Name`))%>%\n",
    "  subset(ISFinder==0)\n",
    "plasmidic$MGE_Class=\"Plasmid\"\n",
    "CE=mobileOGs_classes%>%subset(`Major mobileOG Category`==\"transfer\"&\n",
    "                                grepl(\"conjugati\",`Minor mobileOG Categories`))\n",
    "CE$MGE_Class=\"Conjugative Element (CE)\"\n",
    "\n",
    "merged=rbind(TE,IGE,Ph,plasmidic,CE)\n",
    "\n",
    "ACLAME=mobileOGs_classes%>%filter(`mobileOG Entry Name`%notin%merged$`mobileOG Entry Name`)\n",
    "\n",
    "ACLAME$MGE_Class=\"Only detected in ACLAME\"\n",
    "\n",
    "merged=rbind(merged,ACLAME)\n",
    "\n",
    "\n",
    "\n",
    "merged[,c(\"mobileOG Entry Name\",\"MGE_Class\")]%>%\n",
    "  group_by(`mobileOG Entry Name`)%>%\n",
    "       mutate(MGE_Class = paste((MGE_Class), collapse=\",\"))%>%ungroup()\n",
    "\n",
    "length(unique(merged$`mobileOG Entry Name`))\n",
    "\n",
    "\n",
    "\n",
    "out=merged%>%group_by(`mobileOG Entry Name`) %>%\n",
    "  dplyr::summarize(MGE_Class = paste(unique(MGE_Class),collapse=','))%>%\n",
    "  ungroup()"
   ]
  },
  {
   "cell_type": "markdown",
   "metadata": {},
   "source": [
    "Here I will add the additional metadata to the metadata file."
   ]
  },
  {
   "cell_type": "code",
   "execution_count": 21,
   "metadata": {},
   "outputs": [],
   "source": [
    "# Metadata file\n",
    "df_mobileog_mc = pd.read_csv(\"files/mobileOG-db-beatrix-1.6-MC.csv\")\n",
    "\n",
    "# Add metadata to the manually curated file\n",
    "df_mobileog_mc = pd.merge(df_mobileog_mc, out, on = \"mobileOG Entry Name\", how = \"left\")"
   ]
  },
  {
   "cell_type": "markdown",
   "metadata": {},
   "source": [
    "Hera are all categories in the mobileOG-db metadata file"
   ]
  },
  {
   "cell_type": "code",
   "execution_count": 22,
   "metadata": {},
   "outputs": [
    {
     "name": "stdout",
     "output_type": "stream",
     "text": [
      "Plasmid\n",
      "Phage\n",
      "Only detected in ACLAME\n",
      "Phage,Plasmid\n",
      "Integrative Element (IGE)\n",
      "Integrative Element (IGE),Phage\n",
      "Insertion Sequence (IS)\n",
      "Insertion Sequence (IS),Phage\n",
      "Phage,Conjugative Element (CE)\n",
      "Plasmid,Conjugative Element (CE)\n",
      "Conjugative Element (CE)\n",
      "Integrative Element (IGE),Conjugative Element (CE)\n",
      "Integrative Element (IGE),Phage,Conjugative Element (CE)\n"
     ]
    }
   ],
   "source": [
    "for item in df_mobileog_mc.MGE_Class.unique():\n",
    "    print(item)"
   ]
  },
  {
   "cell_type": "markdown",
   "metadata": {},
   "source": [
    "First I remove everything that contains Phage in the class, and print the remaining classes."
   ]
  },
  {
   "cell_type": "code",
   "execution_count": 23,
   "metadata": {},
   "outputs": [
    {
     "name": "stdout",
     "output_type": "stream",
     "text": [
      "Plasmid\n",
      "Only detected in ACLAME\n",
      "Integrative Element (IGE)\n",
      "Insertion Sequence (IS)\n",
      "Plasmid,Conjugative Element (CE)\n",
      "Conjugative Element (CE)\n",
      "Integrative Element (IGE),Conjugative Element (CE)\n"
     ]
    }
   ],
   "source": [
    "df_mobileog_mc_f = df_mobileog_mc[~df_mobileog_mc[\"MGE_Class\"].str.contains(\"Phage\", regex=True)]\n",
    "\n",
    "for item in df_mobileog_mc_f.MGE_Class.unique():\n",
    "    print(item)"
   ]
  },
  {
   "cell_type": "markdown",
   "metadata": {},
   "source": [
    "## Filter on Conjugative elements "
   ]
  },
  {
   "cell_type": "code",
   "execution_count": 24,
   "metadata": {},
   "outputs": [],
   "source": [
    "# Groups related to conjugative elements\n",
    "keep_CE = [\"Integrative Element (IGE),Conjugative Element (CE)\", \n",
    "           \"Conjugative Element (CE)\", \n",
    "           \"Plasmid,Conjugative Element (CE)\"]\n",
    "\n",
    "df_CE = df_mobileog_mc_f[df_mobileog_mc_f.MGE_Class.isin(keep_CE)]\n",
    "df_DE_major_Class = df_CE[\"Major mobileOG Category\"].unique()\n",
    "df_DE_minor_Class = df_CE[\"Minor mobileOG Categories\"].unique()"
   ]
  },
  {
   "cell_type": "markdown",
   "metadata": {},
   "source": [
    "Bellow are all minor categories in this class. I kept them all."
   ]
  },
  {
   "cell_type": "code",
   "execution_count": 25,
   "metadata": {},
   "outputs": [
    {
     "name": "stdout",
     "output_type": "stream",
     "text": [
      "Major Categories in this class: ['transfer'] \n",
      "\n",
      "Minor Categories in this class: ['conjugation' 'conjugation,relaxosome' 'conjugation,dispensible'\n",
      " 'conjugation,regulation' 'conjugation,competence'\n",
      " 'regulation,conjugation' 'conjugation,replication/recombination/repair'\n",
      " 'conjugation,initiation']\n"
     ]
    }
   ],
   "source": [
    "print(f\"Major Categories in this class: {df_DE_major_Class} \\n\")\n",
    "print(f\"Minor Categories in this class: {df_DE_minor_Class}\")"
   ]
  },
  {
   "cell_type": "markdown",
   "metadata": {},
   "source": [
    "## Filter IS elements "
   ]
  },
  {
   "cell_type": "code",
   "execution_count": 26,
   "metadata": {},
   "outputs": [],
   "source": [
    "# Here I will only keep the genes from ISfinder and remove phage\n",
    "df_IS = df_mobileog_mc_f[df_mobileog_mc_f.ISFinder != 0]\n",
    "df_IS = df_IS[df_IS[\"Major mobileOG Category\"] != \"phage\"]\n",
    "\n",
    "df_IS_major_Class = df_IS[\"Major mobileOG Category\"].unique()\n",
    "df_IS_minor_Class = df_IS[\"Minor mobileOG Categories\"].unique()"
   ]
  },
  {
   "cell_type": "markdown",
   "metadata": {},
   "source": [
    "I only kept genes from the ISfinder datable. Below are minor categories within this class."
   ]
  },
  {
   "cell_type": "code",
   "execution_count": 27,
   "metadata": {},
   "outputs": [
    {
     "name": "stdout",
     "output_type": "stream",
     "text": [
      "Major Categories in this class: ['integration/excision' 'replication/recombination/repair'\n",
      " 'stability/transfer/defense'] \n",
      "\n",
      "Minor Categories in this class: [nan 'replication/recombination/repair' 'crispr,spacer acquisition'\n",
      " 'invertase,pilin variation']\n"
     ]
    }
   ],
   "source": [
    "print(f\"Major Categories in this class: {df_IS_major_Class} \\n\")\n",
    "print(f\"Minor Categories in this class: {df_IS_minor_Class}\")"
   ]
  },
  {
   "cell_type": "markdown",
   "metadata": {},
   "source": [
    "## Only detected in ACLAME (an MGE database)"
   ]
  },
  {
   "cell_type": "code",
   "execution_count": 28,
   "metadata": {},
   "outputs": [],
   "source": [
    "df_OIA = df_mobileog_mc_f[df_mobileog_mc_f.MGE_Class == \"Only detected in ACLAME\"]\n",
    "df_OIA = df_OIA[df_OIA[\"Major mobileOG Category\"] != \"phage\"]\n",
    "\n",
    "df_OIA_major_Class = df_OIA[\"Major mobileOG Category\"].unique()\n",
    "df_OIA_minor_Class = df_OIA[\"Minor mobileOG Categories\"].unique()\n",
    "\n",
    "# Keep only gene involved in conjugation\n",
    "df_OIA = df_OIA[df_OIA[\"Minor mobileOG Categories\"] == \"conjugation\"]"
   ]
  },
  {
   "cell_type": "markdown",
   "metadata": {},
   "source": [
    "This is a strange category which contains a lot of different major and minor categories. I choose to only keep the genes related to conjugation. I have printed all categories in the class below. "
   ]
  },
  {
   "cell_type": "code",
   "execution_count": 29,
   "metadata": {},
   "outputs": [
    {
     "name": "stdout",
     "output_type": "stream",
     "text": [
      "Major Categories in this class: ['replication/recombination/repair' 'integration/excision'\n",
      " 'stability/transfer/defense' 'transfer'] \n",
      "\n",
      "Minor Categories in this class: [nan 'replication/recombination/repair' 'regulation' 'partitioning'\n",
      " 'phage' 'transfer' 'initiation,copy number control,plasmid' 'conjugation'\n",
      " 'transfer,partitioning' 'shufflon' 'CRISPR' 'replication,resolvase'\n",
      " 'introns' 'crispr' 'crispr,spacer acquisition' 'plasmid' 'competence'\n",
      " 'stability/transfer/defense' 'replication'\n",
      " 'crispr,nucleic acid degradation']\n"
     ]
    }
   ],
   "source": [
    "print(f\"Major Categories in this class: {df_OIA_major_Class} \\n\")\n",
    "print(f\"Minor Categories in this class: {df_OIA_minor_Class}\")"
   ]
  },
  {
   "cell_type": "markdown",
   "metadata": {},
   "source": [
    "## Plasmids"
   ]
  },
  {
   "cell_type": "code",
   "execution_count": null,
   "metadata": {},
   "outputs": [],
   "source": []
  },
  {
   "cell_type": "code",
   "execution_count": 30,
   "metadata": {},
   "outputs": [],
   "source": [
    "df_plasmids = df_mobileog_mc_f[df_mobileog_mc_f.MGE_Class == \"Plasmid\"]\n",
    "\n",
    "df_pl_major_Class = df_plasmids[\"Major mobileOG Category\"].unique()\n",
    "df_pl_minor_Class = df_plasmids[\"Minor mobileOG Categories\"].unique()\n",
    "\n",
    "# Only keep genes involved in conjugation and transfer\n",
    "df_plasmids = df_plasmids[df_plasmids[\"Minor mobileOG Categories\"] == \"transfer,conjugation\"]"
   ]
  },
  {
   "cell_type": "markdown",
   "metadata": {},
   "source": [
    "I choose to only keep the genes related to `transfer,conjugation`. I have printed all categories in the class below. "
   ]
  },
  {
   "cell_type": "code",
   "execution_count": 31,
   "metadata": {},
   "outputs": [
    {
     "name": "stdout",
     "output_type": "stream",
     "text": [
      "Major Categories in this class: ['integration/excision' 'phage' 'replication/recombination/repair'\n",
      " 'stability/transfer/defense' 'transfer'] \n",
      "\n",
      "Minor Categories in this class: [nan 'replication/recombination/repair' 'stability/transfer/defense'\n",
      " 'lysis/lysogeny,regulation' 'replication' 'infection,regulation'\n",
      " 'regulation' 'lysis/lysogeny' 'partitioning' 'structural'\n",
      " 'integration/excision' 'initiation,copy number control,plasmid' 'plasmid'\n",
      " 'regulation,transfer,replication'\n",
      " 'partitioning,initiation,copy number control,plasmid'\n",
      " 'transfer,conjugation' 'replication,resolvase' 'CRISPR'\n",
      " 'regulation,lysis/lysogeny' 'replication,packaging' 'lysis'\n",
      " 'integration/excision,inversion' 'transfer,receptor' 'competence'\n",
      " 'regulation,plasmid' 'transfer' 'transfer,partitioning' 'crispr'\n",
      " 'relaxosome' 'shufflon' 'regulation,stability' 'linear chromosomes'\n",
      " 'replication,inversion' 'infection,lysis/lysogeny' 'phage' 'introns'\n",
      " 'splicing,transfer' 'replication/recombination/repair,initiation'\n",
      " 'crispr,spacer acquisition' 'regulation,competence'\n",
      " 'regulation,infection' 'phage,receptor' 'crispr,cascade complex'\n",
      " 'replication,chaperone' 'replication,structural' 'crispr,recombination'\n",
      " 'phage receptor' 'phage defense' 'crispr,crrna generation'\n",
      " 'stability/transfer/defense,metabolism' 'crispr,nucleic acid degradation'\n",
      " 'chaperone' 'replication,infection' 'competence,dispensible'\n",
      " 'replication,transfer']\n"
     ]
    }
   ],
   "source": [
    "print(f\"Major Categories in this class: {df_pl_major_Class} \\n\")\n",
    "print(f\"Minor Categories in this class: {df_pl_minor_Class}\")"
   ]
  },
  {
   "cell_type": "markdown",
   "metadata": {},
   "source": [
    "# Integrons"
   ]
  },
  {
   "cell_type": "code",
   "execution_count": 32,
   "metadata": {},
   "outputs": [],
   "source": [
    "# Keep only if we have a gene name\n",
    "df_int = df_mobileog_mc_f[~df_mobileog_mc_f.Name.isna()]\n",
    "\n",
    "# Only keep int genes\n",
    "df_int = df_int[ df_int.Name.str.contains(\"int\")]\n",
    "\n",
    "# Keep these manual annotations\n",
    "list_annotation_keep = ['Transposase required for excision and integration mobile elements',\n",
    "                        'Integrase',\n",
    "                        'Integrase (Recombinase)',\n",
    "                        'Tyrosine Integrase Recombinase',\n",
    "                        'Putative Integrase', 'serine integrase',\n",
    "                        'DNA integration/recombination/inversion protein']\n",
    "\n",
    "df_int = df_int[df_int[\"Manual Annotation\"].isin(list_annotation_keep)]\n",
    "df_int = df_int[df_int[\"Major mobileOG Category\"] != \"phage\"]"
   ]
  },
  {
   "cell_type": "markdown",
   "metadata": {},
   "source": [
    "This was slightly more complicated. I first looked for genes with the name ìnt*` I then looked through the manual annotations and kept these ones:\n",
    "```\n",
    "['Transposase required for excision and integration mobile elements',\n",
    "'Integrase',\n",
    "'Integrase (Recombinase)',\n",
    "'Tyrosine Integrase Recombinase',\n",
    "'Putative Integrase', 'serine integrase',\n",
    "'DNA integration/recombination/inversion protein']\n",
    "```\n",
    "\n",
    "Finally, I removed categories related to phage. "
   ]
  },
  {
   "cell_type": "markdown",
   "metadata": {},
   "source": [
    "## Combine all categories to a final db."
   ]
  },
  {
   "cell_type": "code",
   "execution_count": 33,
   "metadata": {},
   "outputs": [],
   "source": [
    "# Define Type\n",
    "df_conjugation = pd.concat([df_OIA, df_plasmids, df_CE])\n",
    "df_conjugation[\"Type\"] = \"Conjugation\"\n",
    "df_int[\"Type\"] = \"Integrases\"\n",
    "df_IS[\"Type\"] = \"IS elements\"\n",
    "\n",
    "# The intI genes were identified in a different way than the other categories. \n",
    "# There might therefore be some overlap between it and the other categories\n",
    "# Here I create a list of the int gene identifiers and remove them from the other categories\n",
    "df_int_list = df_int[\"mobileOG Entry Name\"].unique()\n",
    "df_conjugation = df_conjugation[~df_conjugation[\"mobileOG Entry Name\"].isin(df_int_list)]\n",
    "df_IS = df_IS[~df_IS[\"mobileOG Entry Name\"].isin(df_int_list)]\n",
    "# Combine all categories\n",
    "df_final = pd.concat([df_conjugation, df_int, df_IS])\n",
    "\n",
    "# Remove everything related to phage (again)\n",
    "df_final = df_final[~(df_final[\"Manual Annotation\"].str.contains(\"phage\")) |\n",
    "                    (df_final[\"Minor mobileOG Categories\"].str.contains(\"phage\"))]"
   ]
  },
  {
   "cell_type": "markdown",
   "metadata": {},
   "source": [
    "# Number of genes in each category"
   ]
  },
  {
   "cell_type": "code",
   "execution_count": 34,
   "metadata": {},
   "outputs": [
    {
     "data": {
      "text/plain": [
       "Type\n",
       "Conjugation    2628\n",
       "IS elements     311\n",
       "Integrases      121\n",
       "Name: count, dtype: int64"
      ]
     },
     "execution_count": 34,
     "metadata": {},
     "output_type": "execute_result"
    }
   ],
   "source": [
    "df_final.Type.value_counts()"
   ]
  },
  {
   "cell_type": "code",
   "execution_count": 35,
   "metadata": {},
   "outputs": [],
   "source": [
    "#df_final.to_csv(\"files/mobileOG-db-beatrix-1.6-MC_filtered.csv\", sep = \"\\t\", index=False)"
   ]
  },
  {
   "cell_type": "code",
   "execution_count": 36,
   "metadata": {},
   "outputs": [
    {
     "data": {
      "text/plain": [
       "3060"
      ]
     },
     "execution_count": 36,
     "metadata": {},
     "output_type": "execute_result"
    }
   ],
   "source": [
    "# Create a list to store SeqRecord objects\n",
    "records = []\n",
    "\n",
    "# Iterate through the DataFrame rows\n",
    "for index, row in df_final.iterrows():\n",
    "    # Create a SeqRecord object for each row\n",
    "    record = SeqRecord(\n",
    "        Seq(row['Amino Acid Sequence']),\n",
    "        id=row['mobileOG fasta Header'],\n",
    "        description=\"\"\n",
    "    )\n",
    "    records.append(record)\n",
    "\n",
    "# Write the records to a FASTA file\n",
    "output_file = \"files/mobileOG-db-beatrix-1.6-MC_filtered.fasta\"\n",
    "#SeqIO.write(records, output_file, \"fasta\")"
   ]
  }
 ],
 "metadata": {
  "kernelspec": {
   "display_name": "Python 3 (ipykernel)",
   "language": "python",
   "name": "python3"
  },
  "language_info": {
   "codemirror_mode": {
    "name": "ipython",
    "version": 3
   },
   "file_extension": ".py",
   "mimetype": "text/x-python",
   "name": "python",
   "nbconvert_exporter": "python",
   "pygments_lexer": "ipython3",
   "version": "3.11.8"
  }
 },
 "nbformat": 4,
 "nbformat_minor": 2
}
